{
 "cells": [
  {
   "cell_type": "code",
   "execution_count": 85,
   "metadata": {},
   "outputs": [
    {
     "name": "stdout",
     "output_type": "stream",
     "text": [
      "t1.txt: All brackets match!\n",
      "t3.txt: Not equal - '[' doesn't match with ')' \n",
      "t2.txt: ')' found but nothing to match with\n",
      "t6.txt: Not equal - '[' doesn't match with '}' \n",
      "t7.txt: All brackets match!\n",
      "t5.txt: All brackets match!\n",
      "t4.txt: '(' found, expected ')'\n"
     ]
    }
   ],
   "source": [
    "# Title: Bracket Matcher\n",
    "#\n",
    "# Description: Checks if brackets in an input file are nested correctly, that is, each opening bracket \n",
    "# is followed by its corresponding close bracket.\n",
    "#\n",
    "# Author: Harry Baines\n",
    "\n",
    "import glob\n",
    "\n",
    "# Directory of input files\n",
    "input_files_dir = './inputFiles/*.txt'\n",
    "\n",
    "# List of supported open and close brackets\n",
    "char_dict = {'[':']', '(':')', '{':'}'}\n",
    "\n",
    "def get_char_list(filename):\n",
    "    \"\"\" Opens a file, removes newlines, whitespace and letters, and returns a list of characters read. \"\"\"\n",
    "    return [ch for ch in open(filename).read() if ch != '\\n' if ch != ' ' if not(ch.isalpha())]\n",
    "\n",
    "def brackets_match(ch_list, filename):\n",
    "    \"\"\" Function that takes a list of bracket characters and returns true if every opening bracket \n",
    "          has a corresponding close bracket, and false otherwise.  \"\"\"\n",
    "    stack = []\n",
    "    for ch in char_list:\n",
    "        if ch in char_dict:\n",
    "            stack.append(ch)\n",
    "        else:\n",
    "            try:\n",
    "                top = stack.pop()\n",
    "            except IndexError:\n",
    "                return \"{}: '{}' found but nothing to match with\".format(filename, ch)\n",
    "            if not(ch == char_dict[top]):\n",
    "                return \"{}: Not equal - '{}' doesn't match with '{}' \".format(filename, top, ch)\n",
    "    \n",
    "    if len(stack) > 0:\n",
    "        return \"{}: '{}' found, expected '{}'\".format(filename, stack[-1], char_dict[ch])\n",
    "    else:\n",
    "        return \"{}: All brackets match!\".format(filename)\n",
    "\n",
    "# Main - read list of files from directory\n",
    "if __name__ == \"__main__\":\n",
    "    input_files = glob.glob(input_files_dir)\n",
    "    for filepath in input_files:\n",
    "        char_list = get_char_list(filepath)\n",
    "        msg = brackets_match(char_list, filepath.split('/')[-1])\n",
    "        print(msg)"
   ]
  },
  {
   "cell_type": "code",
   "execution_count": null,
   "metadata": {},
   "outputs": [],
   "source": []
  }
 ],
 "metadata": {
  "kernelspec": {
   "display_name": "Python 3",
   "language": "python",
   "name": "python3"
  },
  "language_info": {
   "codemirror_mode": {
    "name": "ipython",
    "version": 3
   },
   "file_extension": ".py",
   "mimetype": "text/x-python",
   "name": "python",
   "nbconvert_exporter": "python",
   "pygments_lexer": "ipython3",
   "version": "3.5.2"
  }
 },
 "nbformat": 4,
 "nbformat_minor": 2
}
